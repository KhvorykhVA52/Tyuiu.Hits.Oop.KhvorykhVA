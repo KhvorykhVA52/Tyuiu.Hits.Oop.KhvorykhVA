{
 "cells": [
  {
   "cell_type": "markdown",
   "metadata": {},
   "source": [
    "<h1 style=\"color:DodgerBlue\">Индивидальный проект</h1>"
   ]
  },
  {
   "cell_type": "markdown",
   "metadata": {},
   "source": [
    "<h2 style=\"color:DodgerBlue\">Название проекта: Управление растениями в саду </h2>\n",
    "\n",
    "----\n",
    "\n",
    "### Вариант задания \n"
   ]
  },
  {
   "cell_type": "markdown",
   "metadata": {},
   "source": [
    "<h2 style=\"color:DodgerBlue\">Описание проекта:</h2>\n",
    "\n",
    "----\n",
    "\n",
    "Разаработать проект для управления растениями в саду используя основные концепции ООП в С#. Вам нужно создать классы, которые будут описывать равные типы растений, используя наследования и полиморфизм\n",
    "Создать гибкую и расширяемую систему для моделирования различных типов растений в саду, демонстрируя ключевые принципы ООП.\n",
    "\n",
    "#### Дополнительное задание\n",
    "Добавьте к сущестующим классам конструктора классов с использованием гетторов и сетторов и реализуйте взаимодействие объектов между собой"
   ]
  },
  {
   "cell_type": "markdown",
   "metadata": {},
   "source": [
    "<h2 style=\"color:DodgerBlue\">Реализация:</h2>\n",
    "\n",
    "----"
   ]
  },
  {
   "cell_type": "code",
   "execution_count": null,
   "metadata": {
    "dotnet_interactive": {
     "language": "csharp"
    },
    "polyglot_notebook": {
     "kernelName": "csharp"
    }
   },
   "outputs": [
    {
     "name": "stdout",
     "output_type": "stream",
     "text": [
      "=== Управление растениями в саду ===\n",
      "\n",
      "=== Работа с цветком ===\n",
      "Цветок: Роза, Высота: 52 см, Цвет: Красный\n",
      "Цветок Роза распускается и радует глаза! Цвет: Красный, Лепестков: 11\n",
      "Растение Роза выросло на 5.7 см. Теперь его высота: 57.7 см.\n",
      "Цветок Роза начинает увядать.\n",
      "\n",
      "=== Работа с деревом ===\n",
      "Дерево: Дуб, Высота: 200 см, Возраст: 10 лет\n",
      "Дерево Дуб покрывается новыми листьями типа: Лиственные\n",
      "Растение Дуб выросло на 15 см. Теперь его высота: 215 см.\n",
      "Дерево Дуб стало старше на 2 лет. Теперь его возраст: 12 лет.\n",
      "\n",
      "=== Демонстрация полиморфизма ===\n",
      "Цветок Роза распускается и радует глаза! Цвет: Красный, Лепестков: 11\n",
      "Дерево Дуб покрывается новыми листьями типа: Лиственные\n"
     ]
    }
   ],
   "source": [
    "using System;\n",
    "public class Plant\n",
    "{\n",
    "    public string Name { get; set; }\n",
    "    public string Type { get; set; }\n",
    "    public float Height { get; set; }\n",
    "\n",
    "    public Plant(string name, string type, float height)\n",
    "    {\n",
    "\n",
    "        Name = name;\n",
    "        Type = type;\n",
    "        Height = height;\n",
    "    }\n",
    "    public virtual void Blossom()\n",
    "    {\n",
    "        Console.WriteLine($\"Растение {Name} цветет.\");\n",
    "    }\n",
    "\n",
    "    public void Grow(float growth)\n",
    "    {\n",
    "        Height += growth;\n",
    "        Console.WriteLine($\"Растение {Name} выросло на {growth} см. Теперь его высота: {Height} см.\");\n",
    "    }\n",
    "}\n",
    "public class Flower : Plant\n",
    "{\n",
    "    public string Color { get; set; }\n",
    "    public int PetalCount { get; set; }\n",
    "\n",
    "    public Flower(string name, float height, string color, int petalCount) \n",
    "        : base(name, \"Цветок\", height)\n",
    "    {\n",
    "\n",
    "        Color = color;\n",
    "        PetalCount = petalCount;\n",
    "    }\n",
    "    public override void Blossom()\n",
    "    {\n",
    "        Console.WriteLine($\"Цветок {Name} распускается и радует глаза! Цвет: {Color}, Лепестков: {PetalCount}\");\n",
    "    }\n",
    "\n",
    "    public void Wither()\n",
    "    {\n",
    "        Console.WriteLine($\"Цветок {Name} начинает увядать.\");\n",
    "    }\n",
    "}\n",
    "\n",
    "public class Tree : Plant\n",
    "{\n",
    "    public int Age { get; set; }\n",
    "    public string LeafType { get; set; }\n",
    "\n",
    "    public Tree(string name, float height, int age, string leafType) \n",
    "        : base(name, \"Дерево\", height)\n",
    "    {\n",
    "        Age = age;\n",
    "        LeafType = leafType;\n",
    "    }\n",
    "\n",
    "    public override void Blossom()\n",
    "    {\n",
    "        Console.WriteLine($\"Дерево {Name} покрывается новыми листьями типа: {LeafType}\");\n",
    "    }\n",
    "\n",
    "    public void GrowOlder(int years)\n",
    "    {\n",
    "        Age += years;\n",
    "        Console.WriteLine($\"Дерево {Name} стало старше на {years} лет. Теперь его возраст: {Age} лет.\");\n",
    "    }\n",
    "}\n",
    "\n",
    "        Console.WriteLine(\"=== Управление растениями в саду ===\\n\");\n",
    "        \n",
    "        Flower rose = new Flower(\"Роза\", 52.0f, \"Розовый\", 11);\n",
    "        Tree oak = new Tree(\"Дуб\", 200.0f, 10, \"Лиственные\");\n",
    "        \n",
    "        Console.WriteLine(\"=== Работа с цветком ===\");\n",
    "        Console.WriteLine($\"Цветок: {rose.Name}, Высота: {rose.Height} см, Цвет: {rose.Color}\");\n",
    "        rose.Blossom();\n",
    "        rose.Grow(5.7f);\n",
    "        rose.Wither();\n",
    "        Console.WriteLine();\n",
    "        \n",
    "        Console.WriteLine(\"=== Работа с деревом ===\");\n",
    "        Console.WriteLine($\"Дерево: {oak.Name}, Высота: {oak.Height} см, Возраст: {oak.Age} лет\");\n",
    "        oak.Blossom();\n",
    "        oak.Grow(15.0f);\n",
    "        oak.GrowOlder(2);\n",
    "        Console.WriteLine();\n",
    "        \n",
    "        Console.WriteLine(\"=== Демонстрация полиморфизма ===\");\n",
    "        Plant[] plants = new Plant[2];\n",
    "        plants[0] = rose;\n",
    "        plants[1] = oak;\n",
    "        \n",
    "        foreach (var plant in plants)\n",
    "        {\n",
    "            plant.Blossom(); \n",
    "        }"
   ]
  }
 ],
 "metadata": {
  "kernelspec": {
   "display_name": ".NET (C#)",
   "language": "C#",
   "name": ".net-csharp"
  },
  "polyglot_notebook": {
   "kernelInfo": {
    "defaultKernelName": "csharp",
    "items": [
     {
      "aliases": [],
      "languageName": "csharp",
      "name": "csharp"
     }
    ]
   }
  }
 },
 "nbformat": 4,
 "nbformat_minor": 2
}
