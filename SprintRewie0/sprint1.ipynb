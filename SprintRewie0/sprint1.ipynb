{
 "cells": [
  {
   "cell_type": "markdown",
   "metadata": {},
   "source": [
    "<h1 style=\"color:DodgerBlue\">Индивидальный проект</h1>"
   ]
  },
  {
   "cell_type": "markdown",
   "metadata": {},
   "source": [
    "<h2 style=\"color:DodgerBlue\">Название проекта: Спринт ревью #1</h2>\n",
    "\n",
    "----\n",
    "\n",
    "### Вариант задания \n"
   ]
  },
  {
   "cell_type": "markdown",
   "metadata": {},
   "source": [
    "<h2 style=\"color:DodgerBlue\">Описание проекта:</h2>\n",
    "\n",
    "----\n",
    "\n",
    "Создать проект на С#, реализующее классы Товар (Product), Продавец (Seler).\n",
    "Магазин (Store) с использование геттеров и сеттеров, а также модификаторов доступа\n",
    "public, private, protected, internal. От каждого класса создайте по одному экземпляру\n",
    "\n",
    "#### Дополнительное задание\n",
    "Добавьте к сущестующим классам (базовыму и производным 3-4 атрибута и метода) и реализуйте простое, сложное и множественное наследование"
   ]
  },
  {
   "cell_type": "markdown",
   "metadata": {},
   "source": [
    "<h2 style=\"color:DodgerBlue\">Реализация:</h2>\n",
    "\n",
    "----"
   ]
  },
  {
   "cell_type": "code",
   "execution_count": null,
   "metadata": {
    "dotnet_interactive": {
     "language": "csharp"
    },
    "polyglot_notebook": {
     "kernelName": "csharp"
    }
   },
   "outputs": [
    {
     "name": "stdout",
     "output_type": "stream",
     "text": [
      "Товар: Телефон, Цена: 10000, Количество: 3\n",
      "Общая стоимость: 30000\n",
      "Обновленное количество: Товар: Телефон, Цена: 10000, Количество: 15\n",
      "Товар Телефон добавлен продавцу Иван\n",
      "Продавец Иван продал 3 единиц товара Телефон\n",
      "Количество после продажи: Товар: Телефон, Цена: 10000, Количество: 12\n",
      "Товар Телефон добавлен в магазин ТехноМир\n",
      "Товары в магазине ТехноМир:\n",
      "Товар: Телефон, Цена: 10000, Количество: 12\n"
     ]
    }
   ],
   "source": [
    "public class Product\n",
    "{\n",
    "    public string Name { get; set; }\n",
    "    private decimal price;\n",
    "    private int quantity;\n",
    "    protected string Category { get; set; }\n",
    "    internal string Description { get; set; }\n",
    "    public decimal Price\n",
    "    {\n",
    "        get { return price; }\n",
    "        set { price = value; }\n",
    "    }\n",
    "    public int Quantity\n",
    "    {\n",
    "        get { return quantity; }\n",
    "        set { quantity = value; }\n",
    "    }\n",
    "    public Product(string name, decimal price, int quantity, string category, string description)\n",
    "    {\n",
    "        Name = name;\n",
    "        Price = price;\n",
    "        Quantity = quantity;\n",
    "        Category = category;\n",
    "        Description = description;\n",
    "    }\n",
    "    public decimal GetTotalPrice()\n",
    "    {\n",
    "        return Price * Quantity;\n",
    "    }\n",
    "    public void UpdateQuantity(int amount)\n",
    "    {\n",
    "        Quantity = amount;\n",
    "    }\n",
    "    public string GetProductInfo()\n",
    "    {\n",
    "        return $\"Товар: {Name}, Цена: {Price}, Количество: {Quantity}\";\n",
    "    }\n",
    "}\n",
    "\n",
    "public class Seller\n",
    "{\n",
    "    public string Name { get; set; }\n",
    "    private string employeeId;\n",
    "    protected decimal Salary { get; set; }\n",
    "    internal string ContactInfo { get; set; }\n",
    "    private List<Product> products = new List<Product>();\n",
    "    public string EmployeeId\n",
    "    {\n",
    "        get { return employeeId; }\n",
    "        set { employeeId = value; }\n",
    "    }\n",
    "    public Seller(string name, string employeeId, decimal salary, string contactInfo)\n",
    "    {\n",
    "        Name = name;\n",
    "        EmployeeId = employeeId;\n",
    "        Salary = salary;\n",
    "        ContactInfo = contactInfo;\n",
    "    }\n",
    "    public void AddProduct(Product product)\n",
    "    {\n",
    "        products.Add(product);\n",
    "        Console.WriteLine($\"Товар {product.Name} добавлен продавцу {Name}\");\n",
    "    }\n",
    "    public void SellProduct(Product product, int quantity)\n",
    "    {\n",
    "        if (product.Quantity >= quantity)\n",
    "        {\n",
    "            product.Quantity -= quantity;\n",
    "            Console.WriteLine($\"Продавец {Name} продал {quantity} единиц товара {product.Name}\");\n",
    "        }\n",
    "        else\n",
    "        {\n",
    "            Console.WriteLine(\"Недостаточно товара на складе\");\n",
    "        }\n",
    "    }\n",
    "}\n",
    "\n",
    "public class Store\n",
    "{\n",
    "    public string Name { get; set; }\n",
    "    public string Address { get; set; }\n",
    "    private List<Product> products = new List<Product>();\n",
    "\n",
    "    public Store(string name, string address)\n",
    "    {\n",
    "        Name = name;\n",
    "        Address = address;\n",
    "    }\n",
    "\n",
    "    public void AddProduct(Product product)\n",
    "    {\n",
    "        products.Add(product);\n",
    "        Console.WriteLine($\"Товар {product.Name} добавлен в магазин {Name}\");\n",
    "    }\n",
    "\n",
    "    public void ShowProducts()\n",
    "    {\n",
    "        Console.WriteLine($\"Товары в магазине {Name}:\");\n",
    "        foreach (var product in products)\n",
    "        {\n",
    "            Console.WriteLine(product.GetProductInfo());\n",
    "        }\n",
    "    }\n",
    "}\n",
    "\n",
    "{\n",
    "    {\n",
    "        Product product = new Product(\"Телефон\", 10000, 3, \"Электроника\", \"Смартфон последней модели\");\n",
    "        Console.WriteLine(product.GetProductInfo());\n",
    "        Console.WriteLine($\"Общая стоимость: {product.GetTotalPrice()}\");\n",
    "        product.UpdateQuantity(15);\n",
    "        Console.WriteLine($\"Обновленное количество: {product.GetProductInfo()}\");\n",
    "\n",
    "        Seller seller = new Seller(\"Иван\", \"EMP001\", 30000, \"+79991234567\");\n",
    "        seller.AddProduct(product);\n",
    "        seller.SellProduct(product, 3);\n",
    "        Console.WriteLine($\"Количество после продажи: {product.GetProductInfo()}\");\n",
    "\n",
    "        Store store = new Store(\"ТехноМир\", \"ул. Центральная, 1\");\n",
    "        store.AddProduct(product);\n",
    "        store.ShowProducts();\n",
    "    }\n",
    "}\n"
   ]
  }
 ],
 "metadata": {
  "kernelspec": {
   "display_name": ".NET (C#)",
   "language": "C#",
   "name": ".net-csharp"
  },
  "polyglot_notebook": {
   "kernelInfo": {
    "defaultKernelName": "csharp",
    "items": [
     {
      "aliases": [],
      "languageName": "csharp",
      "name": "csharp"
     }
    ]
   }
  }
 },
 "nbformat": 4,
 "nbformat_minor": 2
}
